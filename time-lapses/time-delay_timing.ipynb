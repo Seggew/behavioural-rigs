{
 "cells": [
  {
   "cell_type": "markdown",
   "metadata": {},
   "source": [
    "**Testing time.sleep() for accurate camera acquisition during time lapses**"
   ]
  },
  {
   "cell_type": "code",
   "execution_count": 3,
   "metadata": {},
   "outputs": [],
   "source": [
    "# functions used in the rest of the notebook\n",
    "\n",
    "import time\n",
    "import os\n",
    "import random\n",
    "import numpy as np\n",
    "\n",
    "# normal use of time to add delay interval to timelapse\n",
    "def time_test(expected_interval, duration, simulated_camera_delay):\n",
    "\n",
    "    # Calculate the number of captures based on the duration and expected interval\n",
    "    num_captures = int(duration / expected_interval)\n",
    "\n",
    "    # Record the start time for reference\n",
    "    start_time = time.time()\n",
    "\n",
    "    captures = []\n",
    "    for i in range(num_captures + 1):\n",
    "\n",
    "        # simulated camera delay\n",
    "        time.sleep(simulated_camera_delay)\n",
    "\n",
    "        # Calculate the elapsed time from the start of the time-lapse\n",
    "        elapsed_time = time.time() - start_time\n",
    "        captures.append(elapsed_time)\n",
    "        print(f\"capture at: {elapsed_time:0.5f}\")\n",
    "\n",
    "        time.sleep(expected_interval)\n",
    "\n",
    "    return(captures)\n",
    "\n",
    "# adding adaptive time intervals after measuring camera acquisition\n",
    "def adaptive_time_test(expected_interval, duration, simulated_camera_delay, add_noise=True):\n",
    "\n",
    "    # Calculate the number of captures based on the duration and expected interval\n",
    "    num_captures = int(duration / expected_interval)\n",
    "\n",
    "    # Record the start time for reference\n",
    "    start_time = time.time()\n",
    "\n",
    "    captures = []\n",
    "    for i in range(num_captures + 1):\n",
    "        # Generate a unique filename for each capture\n",
    "        #filename = f\"{output_directory}/image_{i:04d}.jpg\"\n",
    "\n",
    "        # Capture an image and save it with the generated filename\n",
    "        #camera.capture(filename)\n",
    "\n",
    "        # simulated camera delay\n",
    "        if(add_noise):\n",
    "            simulated_camera_delay_rand = random.uniform(0.75*simulated_camera_delay, 1.5*simulated_camera_delay)\n",
    "            time.sleep(simulated_camera_delay_rand)\n",
    "        if(add_noise==False):\n",
    "            time.sleep(simulated_camera_delay)\n",
    "\n",
    "        # Calculate the elapsed time from the start of the time-lapse\n",
    "        elapsed_time = time.time() - start_time\n",
    "        captures.append(elapsed_time)\n",
    "        print(f\"capture at: {elapsed_time:0.5f}\")\n",
    "\n",
    "        # Calculate the expected time for the next capture\n",
    "        expected_next_capture_time = (i + 1) * expected_interval\n",
    "\n",
    "        # Calculate the time to sleep for the next capture\n",
    "        sleep_duration = max(0, expected_next_capture_time - elapsed_time)\n",
    "\n",
    "        # Wait for the adjusted delay before capturing the next image\n",
    "        time.sleep(sleep_duration)\n",
    "\n",
    "    return(captures)"
   ]
  },
  {
   "cell_type": "code",
   "execution_count": 8,
   "metadata": {},
   "outputs": [
    {
     "name": "stdout",
     "output_type": "stream",
     "text": [
      "Capture timing with time.sleep() alone\n",
      "\n",
      "capture at: 0.00001\n",
      "capture at: 1.00507\n",
      "capture at: 2.00564\n",
      "capture at: 3.01075\n",
      "capture at: 4.01631\n",
      "capture at: 5.02163\n",
      "capture at: 6.02701\n",
      "capture at: 7.02739\n",
      "capture at: 8.03294\n",
      "capture at: 9.03848\n",
      "capture at: 10.04320\n",
      "\n",
      "Median interval in control: 1.00521 +/- 0.00194\n"
     ]
    }
   ],
   "source": [
    "expected_interval = 1  # Expected interval between captures (in seconds)\n",
    "duration = 10  # Capture images for 20 seconds (20 images in this example)\n",
    "delay = 0.2 # 200ms camera delay for testing\n",
    "\n",
    "print('Capture timing with time.sleep() alone\\n')\n",
    "captures_control = time_test(expected_interval, duration, simulated_camera_delay=0)\n",
    "print(f'\\nMedian interval in control: {np.median(np.diff(captures_control)):0.5f} +/- {np.std(np.diff(captures_control)):0.5f}')"
   ]
  },
  {
   "cell_type": "markdown",
   "metadata": {},
   "source": [
    "Time.sleep() is actually quite accurate on the scale of seconds. We have experienced that it is inconsistent in practice though, suggesting there is a delay introduced by camera acquisition. Below I test what happens when we add a randomised camera delay between 150-300ms. I then used an adaptive interval between acquisitions to take into account the measured delay at each frame."
   ]
  },
  {
   "cell_type": "code",
   "execution_count": 9,
   "metadata": {},
   "outputs": [
    {
     "name": "stdout",
     "output_type": "stream",
     "text": [
      "Capture timing with time.sleep() and simulated camera delay\n",
      "\n",
      "capture at: 0.20249\n",
      "capture at: 1.41104\n",
      "capture at: 2.62072\n",
      "capture at: 3.83142\n",
      "capture at: 5.04211\n",
      "capture at: 6.24570\n",
      "capture at: 7.45330\n",
      "capture at: 8.66142\n",
      "capture at: 9.87033\n",
      "capture at: 11.07726\n",
      "capture at: 12.28762\n",
      "\n",
      "Median interval with camera delay: 1.20873 +/- 0.00205\n"
     ]
    }
   ],
   "source": [
    "print('Capture timing with time.sleep() and simulated camera delay\\n')\n",
    "captures_delay = time_test(expected_interval, duration, simulated_camera_delay=delay)\n",
    "print(f'\\nMedian interval with camera delay: {np.median(np.diff(captures_delay)):0.5f} +/- {np.std(np.diff(captures_delay)):0.5f}')"
   ]
  },
  {
   "cell_type": "markdown",
   "metadata": {},
   "source": [
    "You can see that the additive effect of camera delay over time results in a highly inaccurate timelapse. The last frame should be 10s, but is >12s"
   ]
  },
  {
   "cell_type": "code",
   "execution_count": 10,
   "metadata": {},
   "outputs": [
    {
     "name": "stdout",
     "output_type": "stream",
     "text": [
      "Capture timing with time.sleep() and simulated camera delay, but adaptive interval\n",
      "\n",
      "capture at: 0.20413\n",
      "capture at: 1.19445\n",
      "capture at: 2.17737\n",
      "capture at: 3.29813\n",
      "capture at: 4.22819\n",
      "capture at: 5.24864\n",
      "capture at: 6.26934\n",
      "capture at: 7.24535\n",
      "capture at: 8.18754\n",
      "capture at: 9.26127\n",
      "capture at: 10.25171\n",
      "Median adaptive interval with camera delay: 0.99038 +/- 0.05470\n"
     ]
    }
   ],
   "source": [
    "print('Capture timing with time.sleep() and simulated camera delay, but adaptive interval\\n')\n",
    "captures_delay_adaptive = adaptive_time_test(expected_interval, duration, simulated_camera_delay=delay)\n",
    "print(f'Median adaptive interval with camera delay: {np.median(np.diff(captures_delay_adaptive)):0.5f} +/- {np.std(np.diff(captures_delay_adaptive)):0.5f}')"
   ]
  },
  {
   "cell_type": "markdown",
   "metadata": {},
   "source": [
    "I used an adaptive interval here, which measures the camera delay and accounts for that in interval to next camera acquisition. This seems to prevent additive timing issues. The only downside is that the variability in interval to interval length is increased, but probably still at an acceptable level."
   ]
  }
 ],
 "metadata": {
  "kernelspec": {
   "display_name": "Python 3",
   "language": "python",
   "name": "python3"
  },
  "language_info": {
   "codemirror_mode": {
    "name": "ipython",
    "version": 3
   },
   "file_extension": ".py",
   "mimetype": "text/x-python",
   "name": "python",
   "nbconvert_exporter": "python",
   "pygments_lexer": "ipython3",
   "version": "3.10.10"
  },
  "orig_nbformat": 4
 },
 "nbformat": 4,
 "nbformat_minor": 2
}
